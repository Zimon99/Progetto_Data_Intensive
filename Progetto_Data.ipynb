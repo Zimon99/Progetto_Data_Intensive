{
 "cells": [
  {
   "cell_type": "markdown",
   "metadata": {},
   "source": [
    "# Predizione del prezzo delle auto\n",
    "\n",
    "\n",
    "**Montanari Simone | 0000881267 |** `simone.montanari14@studio.unibo.it`\n",
    "\n",
    "**Programmazione di Applicazioni Data Intensive**  \n",
    "Laurea in Ingegneria e Scienze Informatiche  \n",
    "DISI - Università di Bologna, Cesena\n"
   ]
  },
  {
   "cell_type": "markdown",
   "metadata": {},
   "source": [
    "Citazioni:\n",
    "* A. Tsanas, A. Xifara: 'Accurate quantitative estimation of energy performance of residential buildings using statistical machine learning tools', Energy and Buildings, Vol. 49, pp. 560-567, 2012. \n",
    "https://archive.ics.uci.edu/ml/datasets/Energy+efficiency\n"
   ]
  },
  {
   "cell_type": "markdown",
   "metadata": {},
   "source": [
    "## Descrizione del Problema\n",
    "\n",
    "In questo progetto si vuole realizzare un modello in grado di predire il carico di riscaldamento e di raffreddamento di edifici, analizzando diverse caratteristiche strutturali. "
   ]
  },
  {
   "cell_type": "markdown",
   "metadata": {},
   "source": [
    "## Caricamento delle librerie\n",
    "\n",
    "Inizio importando le librerie esterne che saranno utili per lo svolgimento del progetto:"
   ]
  },
  {
   "cell_type": "code",
   "execution_count": 320,
   "metadata": {},
   "outputs": [],
   "source": [
    "import numpy as np\n",
    "import pandas as pd\n",
    "import matplotlib.pyplot as plt\n",
    "import warnings\n",
    "import seaborn as sb\n",
    "import os.path\n",
    "from sklearn.model_selection import train_test_split\n",
    "from sklearn.model_selection import GridSearchCV\n",
    "from sklearn.metrics import mean_squared_error\n",
    "from sklearn.metrics import r2_score\n",
    "from sklearn.linear_model import LinearRegression\n",
    "from sklearn.linear_model import Ridge\n",
    "from sklearn.linear_model import LassoCV\n",
    "from sklearn.preprocessing import PolynomialFeatures\n",
    "from sklearn.pipeline import Pipeline\n",
    "%matplotlib inline"
   ]
  },
  {
   "cell_type": "markdown",
   "metadata": {},
   "source": [
    "## Caricamento del set di dati\n",
    "\n",
    "Inizio scaricando il file dalla repo github se non esiste già nella cartella dove è presente il file jupyter."
   ]
  },
  {
   "cell_type": "code",
   "execution_count": 321,
   "metadata": {},
   "outputs": [],
   "source": [
    "if not os.path.exists(\"ENB2012_data.csv\"):\n",
    "    urlretrieve(\"https://raw.githubusercontent.com/Zimon99/Progetto_Data_Intensive/main/ENB2012_data.csv\", \"ENB2012_data.csv\")"
   ]
  },
  {
   "cell_type": "markdown",
   "metadata": {},
   "source": [
    "Continuo leggendo il file csv tramite il comando *read_csv* di pandas."
   ]
  },
  {
   "cell_type": "code",
   "execution_count": 322,
   "metadata": {},
   "outputs": [],
   "source": [
    "data = pd.read_csv(\"ENB2012_data.csv\")"
   ]
  },
  {
   "cell_type": "markdown",
   "metadata": {},
   "source": [
    "Visualizziamo una parte (le prime 5 righe) del nostro dataset."
   ]
  },
  {
   "cell_type": "code",
   "execution_count": 323,
   "metadata": {
    "scrolled": true
   },
   "outputs": [
    {
     "data": {
      "text/html": [
       "<div>\n",
       "<style scoped>\n",
       "    .dataframe tbody tr th:only-of-type {\n",
       "        vertical-align: middle;\n",
       "    }\n",
       "\n",
       "    .dataframe tbody tr th {\n",
       "        vertical-align: top;\n",
       "    }\n",
       "\n",
       "    .dataframe thead th {\n",
       "        text-align: right;\n",
       "    }\n",
       "</style>\n",
       "<table border=\"1\" class=\"dataframe\">\n",
       "  <thead>\n",
       "    <tr style=\"text-align: right;\">\n",
       "      <th></th>\n",
       "      <th>X1</th>\n",
       "      <th>X2</th>\n",
       "      <th>X3</th>\n",
       "      <th>X4</th>\n",
       "      <th>X5</th>\n",
       "      <th>X6</th>\n",
       "      <th>X7</th>\n",
       "      <th>X8</th>\n",
       "      <th>Y1</th>\n",
       "      <th>Y2</th>\n",
       "      <th>Unnamed: 10</th>\n",
       "      <th>Unnamed: 11</th>\n",
       "    </tr>\n",
       "  </thead>\n",
       "  <tbody>\n",
       "    <tr>\n",
       "      <th>0</th>\n",
       "      <td>0.98</td>\n",
       "      <td>514.5</td>\n",
       "      <td>294.0</td>\n",
       "      <td>110.25</td>\n",
       "      <td>7.0</td>\n",
       "      <td>2.0</td>\n",
       "      <td>0.0</td>\n",
       "      <td>0.0</td>\n",
       "      <td>15.55</td>\n",
       "      <td>21.33</td>\n",
       "      <td>NaN</td>\n",
       "      <td>NaN</td>\n",
       "    </tr>\n",
       "    <tr>\n",
       "      <th>1</th>\n",
       "      <td>0.98</td>\n",
       "      <td>514.5</td>\n",
       "      <td>294.0</td>\n",
       "      <td>110.25</td>\n",
       "      <td>7.0</td>\n",
       "      <td>3.0</td>\n",
       "      <td>0.0</td>\n",
       "      <td>0.0</td>\n",
       "      <td>15.55</td>\n",
       "      <td>21.33</td>\n",
       "      <td>NaN</td>\n",
       "      <td>NaN</td>\n",
       "    </tr>\n",
       "    <tr>\n",
       "      <th>2</th>\n",
       "      <td>0.98</td>\n",
       "      <td>514.5</td>\n",
       "      <td>294.0</td>\n",
       "      <td>110.25</td>\n",
       "      <td>7.0</td>\n",
       "      <td>4.0</td>\n",
       "      <td>0.0</td>\n",
       "      <td>0.0</td>\n",
       "      <td>15.55</td>\n",
       "      <td>21.33</td>\n",
       "      <td>NaN</td>\n",
       "      <td>NaN</td>\n",
       "    </tr>\n",
       "    <tr>\n",
       "      <th>3</th>\n",
       "      <td>0.98</td>\n",
       "      <td>514.5</td>\n",
       "      <td>294.0</td>\n",
       "      <td>110.25</td>\n",
       "      <td>7.0</td>\n",
       "      <td>5.0</td>\n",
       "      <td>0.0</td>\n",
       "      <td>0.0</td>\n",
       "      <td>15.55</td>\n",
       "      <td>21.33</td>\n",
       "      <td>NaN</td>\n",
       "      <td>NaN</td>\n",
       "    </tr>\n",
       "    <tr>\n",
       "      <th>4</th>\n",
       "      <td>0.90</td>\n",
       "      <td>563.5</td>\n",
       "      <td>318.5</td>\n",
       "      <td>122.50</td>\n",
       "      <td>7.0</td>\n",
       "      <td>2.0</td>\n",
       "      <td>0.0</td>\n",
       "      <td>0.0</td>\n",
       "      <td>20.84</td>\n",
       "      <td>28.28</td>\n",
       "      <td>NaN</td>\n",
       "      <td>NaN</td>\n",
       "    </tr>\n",
       "  </tbody>\n",
       "</table>\n",
       "</div>"
      ],
      "text/plain": [
       "     X1     X2     X3      X4   X5   X6   X7   X8     Y1     Y2  Unnamed: 10  \\\n",
       "0  0.98  514.5  294.0  110.25  7.0  2.0  0.0  0.0  15.55  21.33          NaN   \n",
       "1  0.98  514.5  294.0  110.25  7.0  3.0  0.0  0.0  15.55  21.33          NaN   \n",
       "2  0.98  514.5  294.0  110.25  7.0  4.0  0.0  0.0  15.55  21.33          NaN   \n",
       "3  0.98  514.5  294.0  110.25  7.0  5.0  0.0  0.0  15.55  21.33          NaN   \n",
       "4  0.90  563.5  318.5  122.50  7.0  2.0  0.0  0.0  20.84  28.28          NaN   \n",
       "\n",
       "   Unnamed: 11  \n",
       "0          NaN  \n",
       "1          NaN  \n",
       "2          NaN  \n",
       "3          NaN  \n",
       "4          NaN  "
      ]
     },
     "execution_count": 323,
     "metadata": {},
     "output_type": "execute_result"
    }
   ],
   "source": [
    "data.head()"
   ]
  },
  {
   "cell_type": "markdown",
   "metadata": {},
   "source": [
    "Noto la presenza di due colonne prive di significato, quindi le elimino."
   ]
  },
  {
   "cell_type": "code",
   "execution_count": 324,
   "metadata": {},
   "outputs": [],
   "source": [
    "data.drop([\"Unnamed: 10\",\"Unnamed: 11\"], axis= 1, inplace=True)"
   ]
  },
  {
   "cell_type": "markdown",
   "metadata": {},
   "source": [
    "Controllo la riuscita dell'operazione stampando come fatto precedentemente."
   ]
  },
  {
   "cell_type": "code",
   "execution_count": 325,
   "metadata": {},
   "outputs": [
    {
     "data": {
      "text/html": [
       "<div>\n",
       "<style scoped>\n",
       "    .dataframe tbody tr th:only-of-type {\n",
       "        vertical-align: middle;\n",
       "    }\n",
       "\n",
       "    .dataframe tbody tr th {\n",
       "        vertical-align: top;\n",
       "    }\n",
       "\n",
       "    .dataframe thead th {\n",
       "        text-align: right;\n",
       "    }\n",
       "</style>\n",
       "<table border=\"1\" class=\"dataframe\">\n",
       "  <thead>\n",
       "    <tr style=\"text-align: right;\">\n",
       "      <th></th>\n",
       "      <th>X1</th>\n",
       "      <th>X2</th>\n",
       "      <th>X3</th>\n",
       "      <th>X4</th>\n",
       "      <th>X5</th>\n",
       "      <th>X6</th>\n",
       "      <th>X7</th>\n",
       "      <th>X8</th>\n",
       "      <th>Y1</th>\n",
       "      <th>Y2</th>\n",
       "    </tr>\n",
       "  </thead>\n",
       "  <tbody>\n",
       "    <tr>\n",
       "      <th>0</th>\n",
       "      <td>0.98</td>\n",
       "      <td>514.5</td>\n",
       "      <td>294.0</td>\n",
       "      <td>110.25</td>\n",
       "      <td>7.0</td>\n",
       "      <td>2.0</td>\n",
       "      <td>0.0</td>\n",
       "      <td>0.0</td>\n",
       "      <td>15.55</td>\n",
       "      <td>21.33</td>\n",
       "    </tr>\n",
       "    <tr>\n",
       "      <th>1</th>\n",
       "      <td>0.98</td>\n",
       "      <td>514.5</td>\n",
       "      <td>294.0</td>\n",
       "      <td>110.25</td>\n",
       "      <td>7.0</td>\n",
       "      <td>3.0</td>\n",
       "      <td>0.0</td>\n",
       "      <td>0.0</td>\n",
       "      <td>15.55</td>\n",
       "      <td>21.33</td>\n",
       "    </tr>\n",
       "    <tr>\n",
       "      <th>2</th>\n",
       "      <td>0.98</td>\n",
       "      <td>514.5</td>\n",
       "      <td>294.0</td>\n",
       "      <td>110.25</td>\n",
       "      <td>7.0</td>\n",
       "      <td>4.0</td>\n",
       "      <td>0.0</td>\n",
       "      <td>0.0</td>\n",
       "      <td>15.55</td>\n",
       "      <td>21.33</td>\n",
       "    </tr>\n",
       "    <tr>\n",
       "      <th>3</th>\n",
       "      <td>0.98</td>\n",
       "      <td>514.5</td>\n",
       "      <td>294.0</td>\n",
       "      <td>110.25</td>\n",
       "      <td>7.0</td>\n",
       "      <td>5.0</td>\n",
       "      <td>0.0</td>\n",
       "      <td>0.0</td>\n",
       "      <td>15.55</td>\n",
       "      <td>21.33</td>\n",
       "    </tr>\n",
       "    <tr>\n",
       "      <th>4</th>\n",
       "      <td>0.90</td>\n",
       "      <td>563.5</td>\n",
       "      <td>318.5</td>\n",
       "      <td>122.50</td>\n",
       "      <td>7.0</td>\n",
       "      <td>2.0</td>\n",
       "      <td>0.0</td>\n",
       "      <td>0.0</td>\n",
       "      <td>20.84</td>\n",
       "      <td>28.28</td>\n",
       "    </tr>\n",
       "  </tbody>\n",
       "</table>\n",
       "</div>"
      ],
      "text/plain": [
       "     X1     X2     X3      X4   X5   X6   X7   X8     Y1     Y2\n",
       "0  0.98  514.5  294.0  110.25  7.0  2.0  0.0  0.0  15.55  21.33\n",
       "1  0.98  514.5  294.0  110.25  7.0  3.0  0.0  0.0  15.55  21.33\n",
       "2  0.98  514.5  294.0  110.25  7.0  4.0  0.0  0.0  15.55  21.33\n",
       "3  0.98  514.5  294.0  110.25  7.0  5.0  0.0  0.0  15.55  21.33\n",
       "4  0.90  563.5  318.5  122.50  7.0  2.0  0.0  0.0  20.84  28.28"
      ]
     },
     "execution_count": 325,
     "metadata": {},
     "output_type": "execute_result"
    }
   ],
   "source": [
    "data.head()"
   ]
  },
  {
   "cell_type": "markdown",
   "metadata": {},
   "source": [
    "## Preprocessing del dataset\n",
    "\n",
    "Inizio la fase di preprocessing inserendo manualmente i nomi delle colonne visto che quelli originali non sono comprensibili."
   ]
  },
  {
   "cell_type": "code",
   "execution_count": 326,
   "metadata": {},
   "outputs": [
    {
     "data": {
      "text/html": [
       "<div>\n",
       "<style scoped>\n",
       "    .dataframe tbody tr th:only-of-type {\n",
       "        vertical-align: middle;\n",
       "    }\n",
       "\n",
       "    .dataframe tbody tr th {\n",
       "        vertical-align: top;\n",
       "    }\n",
       "\n",
       "    .dataframe thead th {\n",
       "        text-align: right;\n",
       "    }\n",
       "</style>\n",
       "<table border=\"1\" class=\"dataframe\">\n",
       "  <thead>\n",
       "    <tr style=\"text-align: right;\">\n",
       "      <th></th>\n",
       "      <th>COM</th>\n",
       "      <th>SUP</th>\n",
       "      <th>AP</th>\n",
       "      <th>AT</th>\n",
       "      <th>ALT</th>\n",
       "      <th>OR</th>\n",
       "      <th>AV</th>\n",
       "      <th>DAV</th>\n",
       "      <th>CRI</th>\n",
       "      <th>CRA</th>\n",
       "    </tr>\n",
       "  </thead>\n",
       "  <tbody>\n",
       "    <tr>\n",
       "      <th>0</th>\n",
       "      <td>0.98</td>\n",
       "      <td>514.5</td>\n",
       "      <td>294.0</td>\n",
       "      <td>110.25</td>\n",
       "      <td>7.0</td>\n",
       "      <td>2.0</td>\n",
       "      <td>0.0</td>\n",
       "      <td>0.0</td>\n",
       "      <td>15.55</td>\n",
       "      <td>21.33</td>\n",
       "    </tr>\n",
       "    <tr>\n",
       "      <th>1</th>\n",
       "      <td>0.98</td>\n",
       "      <td>514.5</td>\n",
       "      <td>294.0</td>\n",
       "      <td>110.25</td>\n",
       "      <td>7.0</td>\n",
       "      <td>3.0</td>\n",
       "      <td>0.0</td>\n",
       "      <td>0.0</td>\n",
       "      <td>15.55</td>\n",
       "      <td>21.33</td>\n",
       "    </tr>\n",
       "    <tr>\n",
       "      <th>2</th>\n",
       "      <td>0.98</td>\n",
       "      <td>514.5</td>\n",
       "      <td>294.0</td>\n",
       "      <td>110.25</td>\n",
       "      <td>7.0</td>\n",
       "      <td>4.0</td>\n",
       "      <td>0.0</td>\n",
       "      <td>0.0</td>\n",
       "      <td>15.55</td>\n",
       "      <td>21.33</td>\n",
       "    </tr>\n",
       "    <tr>\n",
       "      <th>3</th>\n",
       "      <td>0.98</td>\n",
       "      <td>514.5</td>\n",
       "      <td>294.0</td>\n",
       "      <td>110.25</td>\n",
       "      <td>7.0</td>\n",
       "      <td>5.0</td>\n",
       "      <td>0.0</td>\n",
       "      <td>0.0</td>\n",
       "      <td>15.55</td>\n",
       "      <td>21.33</td>\n",
       "    </tr>\n",
       "    <tr>\n",
       "      <th>4</th>\n",
       "      <td>0.90</td>\n",
       "      <td>563.5</td>\n",
       "      <td>318.5</td>\n",
       "      <td>122.50</td>\n",
       "      <td>7.0</td>\n",
       "      <td>2.0</td>\n",
       "      <td>0.0</td>\n",
       "      <td>0.0</td>\n",
       "      <td>20.84</td>\n",
       "      <td>28.28</td>\n",
       "    </tr>\n",
       "    <tr>\n",
       "      <th>...</th>\n",
       "      <td>...</td>\n",
       "      <td>...</td>\n",
       "      <td>...</td>\n",
       "      <td>...</td>\n",
       "      <td>...</td>\n",
       "      <td>...</td>\n",
       "      <td>...</td>\n",
       "      <td>...</td>\n",
       "      <td>...</td>\n",
       "      <td>...</td>\n",
       "    </tr>\n",
       "    <tr>\n",
       "      <th>1291</th>\n",
       "      <td>NaN</td>\n",
       "      <td>NaN</td>\n",
       "      <td>NaN</td>\n",
       "      <td>NaN</td>\n",
       "      <td>NaN</td>\n",
       "      <td>NaN</td>\n",
       "      <td>NaN</td>\n",
       "      <td>NaN</td>\n",
       "      <td>NaN</td>\n",
       "      <td>NaN</td>\n",
       "    </tr>\n",
       "    <tr>\n",
       "      <th>1292</th>\n",
       "      <td>NaN</td>\n",
       "      <td>NaN</td>\n",
       "      <td>NaN</td>\n",
       "      <td>NaN</td>\n",
       "      <td>NaN</td>\n",
       "      <td>NaN</td>\n",
       "      <td>NaN</td>\n",
       "      <td>NaN</td>\n",
       "      <td>NaN</td>\n",
       "      <td>NaN</td>\n",
       "    </tr>\n",
       "    <tr>\n",
       "      <th>1293</th>\n",
       "      <td>NaN</td>\n",
       "      <td>NaN</td>\n",
       "      <td>NaN</td>\n",
       "      <td>NaN</td>\n",
       "      <td>NaN</td>\n",
       "      <td>NaN</td>\n",
       "      <td>NaN</td>\n",
       "      <td>NaN</td>\n",
       "      <td>NaN</td>\n",
       "      <td>NaN</td>\n",
       "    </tr>\n",
       "    <tr>\n",
       "      <th>1294</th>\n",
       "      <td>NaN</td>\n",
       "      <td>NaN</td>\n",
       "      <td>NaN</td>\n",
       "      <td>NaN</td>\n",
       "      <td>NaN</td>\n",
       "      <td>NaN</td>\n",
       "      <td>NaN</td>\n",
       "      <td>NaN</td>\n",
       "      <td>NaN</td>\n",
       "      <td>NaN</td>\n",
       "    </tr>\n",
       "    <tr>\n",
       "      <th>1295</th>\n",
       "      <td>NaN</td>\n",
       "      <td>NaN</td>\n",
       "      <td>NaN</td>\n",
       "      <td>NaN</td>\n",
       "      <td>NaN</td>\n",
       "      <td>NaN</td>\n",
       "      <td>NaN</td>\n",
       "      <td>NaN</td>\n",
       "      <td>NaN</td>\n",
       "      <td>NaN</td>\n",
       "    </tr>\n",
       "  </tbody>\n",
       "</table>\n",
       "<p>1296 rows × 10 columns</p>\n",
       "</div>"
      ],
      "text/plain": [
       "       COM    SUP     AP      AT  ALT   OR   AV  DAV    CRI    CRA\n",
       "0     0.98  514.5  294.0  110.25  7.0  2.0  0.0  0.0  15.55  21.33\n",
       "1     0.98  514.5  294.0  110.25  7.0  3.0  0.0  0.0  15.55  21.33\n",
       "2     0.98  514.5  294.0  110.25  7.0  4.0  0.0  0.0  15.55  21.33\n",
       "3     0.98  514.5  294.0  110.25  7.0  5.0  0.0  0.0  15.55  21.33\n",
       "4     0.90  563.5  318.5  122.50  7.0  2.0  0.0  0.0  20.84  28.28\n",
       "...    ...    ...    ...     ...  ...  ...  ...  ...    ...    ...\n",
       "1291   NaN    NaN    NaN     NaN  NaN  NaN  NaN  NaN    NaN    NaN\n",
       "1292   NaN    NaN    NaN     NaN  NaN  NaN  NaN  NaN    NaN    NaN\n",
       "1293   NaN    NaN    NaN     NaN  NaN  NaN  NaN  NaN    NaN    NaN\n",
       "1294   NaN    NaN    NaN     NaN  NaN  NaN  NaN  NaN    NaN    NaN\n",
       "1295   NaN    NaN    NaN     NaN  NaN  NaN  NaN  NaN    NaN    NaN\n",
       "\n",
       "[1296 rows x 10 columns]"
      ]
     },
     "execution_count": 326,
     "metadata": {},
     "output_type": "execute_result"
    }
   ],
   "source": [
    "data.columns = \"COM SUP AP AT ALT OR AV DAV CRI CRA\".split()\n",
    "\n",
    "data"
   ]
  },
  {
   "cell_type": "markdown",
   "metadata": {},
   "source": [
    "Successivamente verranno spiegati i significati delle colonne.\\\n",
    "Ora proseguiamo controllando la presenza di valori NaN."
   ]
  },
  {
   "cell_type": "code",
   "execution_count": 327,
   "metadata": {
    "scrolled": true
   },
   "outputs": [
    {
     "data": {
      "text/plain": [
       "COM    528\n",
       "SUP    528\n",
       "AP     528\n",
       "AT     528\n",
       "ALT    528\n",
       "OR     528\n",
       "AV     528\n",
       "DAV    528\n",
       "CRI    528\n",
       "CRA    528\n",
       "dtype: int64"
      ]
     },
     "execution_count": 327,
     "metadata": {},
     "output_type": "execute_result"
    }
   ],
   "source": [
    "data.isna().sum()"
   ]
  },
  {
   "cell_type": "markdown",
   "metadata": {},
   "source": [
    "Noto la presenza di 528 righe dove per ogni colonna è presente un valore NaN, procedo ad eliminarle."
   ]
  },
  {
   "cell_type": "code",
   "execution_count": 328,
   "metadata": {},
   "outputs": [],
   "source": [
    "data.dropna(inplace=True)"
   ]
  },
  {
   "cell_type": "markdown",
   "metadata": {},
   "source": [
    "Controllo la riuscita dell'operazione."
   ]
  },
  {
   "cell_type": "code",
   "execution_count": 329,
   "metadata": {
    "scrolled": true
   },
   "outputs": [
    {
     "data": {
      "text/plain": [
       "COM    0\n",
       "SUP    0\n",
       "AP     0\n",
       "AT     0\n",
       "ALT    0\n",
       "OR     0\n",
       "AV     0\n",
       "DAV    0\n",
       "CRI    0\n",
       "CRA    0\n",
       "dtype: int64"
      ]
     },
     "execution_count": 329,
     "metadata": {},
     "output_type": "execute_result"
    }
   ],
   "source": [
    "data.isna().sum()"
   ]
  },
  {
   "cell_type": "markdown",
   "metadata": {},
   "source": [
    "Proseguo analizzando informazioni sulle variabili del dataset."
   ]
  },
  {
   "cell_type": "code",
   "execution_count": 330,
   "metadata": {
    "scrolled": true
   },
   "outputs": [
    {
     "name": "stdout",
     "output_type": "stream",
     "text": [
      "<class 'pandas.core.frame.DataFrame'>\n",
      "Int64Index: 768 entries, 0 to 767\n",
      "Data columns (total 10 columns):\n",
      " #   Column  Non-Null Count  Dtype  \n",
      "---  ------  --------------  -----  \n",
      " 0   COM     768 non-null    float64\n",
      " 1   SUP     768 non-null    float64\n",
      " 2   AP      768 non-null    float64\n",
      " 3   AT      768 non-null    float64\n",
      " 4   ALT     768 non-null    float64\n",
      " 5   OR      768 non-null    float64\n",
      " 6   AV      768 non-null    float64\n",
      " 7   DAV     768 non-null    float64\n",
      " 8   CRI     768 non-null    float64\n",
      " 9   CRA     768 non-null    float64\n",
      "dtypes: float64(10)\n",
      "memory usage: 66.0 KB\n"
     ]
    }
   ],
   "source": [
    "data.info()"
   ]
  },
  {
   "cell_type": "markdown",
   "metadata": {},
   "source": [
    "Noto che tutti i dati a disposizione sono di tipo nominale, perciò non adotterò la tecnica del *one hot encoding* per trattare i dati categorici.\n",
    "\n",
    "Per concludere la fase di preprocessing creo un'indice univoco per identificare ogni riga del nostro dataset."
   ]
  },
  {
   "cell_type": "code",
   "execution_count": 331,
   "metadata": {},
   "outputs": [],
   "source": [
    "data.insert(0, 'ID', range(len(data)))"
   ]
  },
  {
   "cell_type": "markdown",
   "metadata": {},
   "source": [
    "Setto l'indice del dataset."
   ]
  },
  {
   "cell_type": "code",
   "execution_count": 332,
   "metadata": {},
   "outputs": [],
   "source": [
    "data.set_index(\"ID\", inplace=True)"
   ]
  },
  {
   "cell_type": "markdown",
   "metadata": {},
   "source": [
    "E mostro una parte di dati per verificare il funzionamento delle operazioni svolte sopra."
   ]
  },
  {
   "cell_type": "code",
   "execution_count": 333,
   "metadata": {
    "scrolled": false
   },
   "outputs": [
    {
     "data": {
      "text/html": [
       "<div>\n",
       "<style scoped>\n",
       "    .dataframe tbody tr th:only-of-type {\n",
       "        vertical-align: middle;\n",
       "    }\n",
       "\n",
       "    .dataframe tbody tr th {\n",
       "        vertical-align: top;\n",
       "    }\n",
       "\n",
       "    .dataframe thead th {\n",
       "        text-align: right;\n",
       "    }\n",
       "</style>\n",
       "<table border=\"1\" class=\"dataframe\">\n",
       "  <thead>\n",
       "    <tr style=\"text-align: right;\">\n",
       "      <th></th>\n",
       "      <th>COM</th>\n",
       "      <th>SUP</th>\n",
       "      <th>AP</th>\n",
       "      <th>AT</th>\n",
       "      <th>ALT</th>\n",
       "      <th>OR</th>\n",
       "      <th>AV</th>\n",
       "      <th>DAV</th>\n",
       "      <th>CRI</th>\n",
       "      <th>CRA</th>\n",
       "    </tr>\n",
       "    <tr>\n",
       "      <th>ID</th>\n",
       "      <th></th>\n",
       "      <th></th>\n",
       "      <th></th>\n",
       "      <th></th>\n",
       "      <th></th>\n",
       "      <th></th>\n",
       "      <th></th>\n",
       "      <th></th>\n",
       "      <th></th>\n",
       "      <th></th>\n",
       "    </tr>\n",
       "  </thead>\n",
       "  <tbody>\n",
       "    <tr>\n",
       "      <th>0</th>\n",
       "      <td>0.98</td>\n",
       "      <td>514.5</td>\n",
       "      <td>294.0</td>\n",
       "      <td>110.25</td>\n",
       "      <td>7.0</td>\n",
       "      <td>2.0</td>\n",
       "      <td>0.0</td>\n",
       "      <td>0.0</td>\n",
       "      <td>15.55</td>\n",
       "      <td>21.33</td>\n",
       "    </tr>\n",
       "    <tr>\n",
       "      <th>1</th>\n",
       "      <td>0.98</td>\n",
       "      <td>514.5</td>\n",
       "      <td>294.0</td>\n",
       "      <td>110.25</td>\n",
       "      <td>7.0</td>\n",
       "      <td>3.0</td>\n",
       "      <td>0.0</td>\n",
       "      <td>0.0</td>\n",
       "      <td>15.55</td>\n",
       "      <td>21.33</td>\n",
       "    </tr>\n",
       "    <tr>\n",
       "      <th>2</th>\n",
       "      <td>0.98</td>\n",
       "      <td>514.5</td>\n",
       "      <td>294.0</td>\n",
       "      <td>110.25</td>\n",
       "      <td>7.0</td>\n",
       "      <td>4.0</td>\n",
       "      <td>0.0</td>\n",
       "      <td>0.0</td>\n",
       "      <td>15.55</td>\n",
       "      <td>21.33</td>\n",
       "    </tr>\n",
       "    <tr>\n",
       "      <th>3</th>\n",
       "      <td>0.98</td>\n",
       "      <td>514.5</td>\n",
       "      <td>294.0</td>\n",
       "      <td>110.25</td>\n",
       "      <td>7.0</td>\n",
       "      <td>5.0</td>\n",
       "      <td>0.0</td>\n",
       "      <td>0.0</td>\n",
       "      <td>15.55</td>\n",
       "      <td>21.33</td>\n",
       "    </tr>\n",
       "    <tr>\n",
       "      <th>4</th>\n",
       "      <td>0.90</td>\n",
       "      <td>563.5</td>\n",
       "      <td>318.5</td>\n",
       "      <td>122.50</td>\n",
       "      <td>7.0</td>\n",
       "      <td>2.0</td>\n",
       "      <td>0.0</td>\n",
       "      <td>0.0</td>\n",
       "      <td>20.84</td>\n",
       "      <td>28.28</td>\n",
       "    </tr>\n",
       "  </tbody>\n",
       "</table>\n",
       "</div>"
      ],
      "text/plain": [
       "     COM    SUP     AP      AT  ALT   OR   AV  DAV    CRI    CRA\n",
       "ID                                                              \n",
       "0   0.98  514.5  294.0  110.25  7.0  2.0  0.0  0.0  15.55  21.33\n",
       "1   0.98  514.5  294.0  110.25  7.0  3.0  0.0  0.0  15.55  21.33\n",
       "2   0.98  514.5  294.0  110.25  7.0  4.0  0.0  0.0  15.55  21.33\n",
       "3   0.98  514.5  294.0  110.25  7.0  5.0  0.0  0.0  15.55  21.33\n",
       "4   0.90  563.5  318.5  122.50  7.0  2.0  0.0  0.0  20.84  28.28"
      ]
     },
     "execution_count": 333,
     "metadata": {},
     "output_type": "execute_result"
    }
   ],
   "source": [
    "data.head()"
   ]
  },
  {
   "cell_type": "markdown",
   "metadata": {},
   "source": [
    "A questo punto dispongo di un numero sufficiente di istanze (768) per proseguire l'analisi."
   ]
  },
  {
   "cell_type": "markdown",
   "metadata": {},
   "source": [
    "## Comprensione delle feature\n",
    "\n",
    "Le colonne del set di dati hanno i seguenti significati:\n",
    "- **ID**: ID univoco assegnato manualmente\n",
    "- **COM**: Compattezza relativa\n",
    "- **SUP**: Area superficiale\n",
    "- **AP**: Area della parete\n",
    "- **AT**: Area del tetto\n",
    "- **ALT**: Altezza totale\n",
    "- **OR**: Orientamento\n",
    "- **AV**: Area vetrata\n",
    "- **DAV**: Distribuzione dell'area vetrata\n",
    "\n",
    "Variabili da predire:\n",
    "- **CRI**: Carico di riscaldamento dell'edificio\n",
    "- **CRA**: Carico di raffreddamento dell'edificio"
   ]
  },
  {
   "cell_type": "markdown",
   "metadata": {},
   "source": [
    "## Esplorazione delle feature\n",
    "\n",
    "Ora che il set di dati è stato caricato e modificato correttamente procedo con l'esplorazione delle singole feature tramite il comando *describe* che fornisce, per ogni colonna, informazioni come il conteggio degli elementi, il valori minimo e massimo, la media e la deviazione standard, i percentili di distribuzione."
   ]
  },
  {
   "cell_type": "code",
   "execution_count": 334,
   "metadata": {
    "scrolled": false
   },
   "outputs": [
    {
     "data": {
      "text/html": [
       "<div>\n",
       "<style scoped>\n",
       "    .dataframe tbody tr th:only-of-type {\n",
       "        vertical-align: middle;\n",
       "    }\n",
       "\n",
       "    .dataframe tbody tr th {\n",
       "        vertical-align: top;\n",
       "    }\n",
       "\n",
       "    .dataframe thead th {\n",
       "        text-align: right;\n",
       "    }\n",
       "</style>\n",
       "<table border=\"1\" class=\"dataframe\">\n",
       "  <thead>\n",
       "    <tr style=\"text-align: right;\">\n",
       "      <th></th>\n",
       "      <th>COM</th>\n",
       "      <th>SUP</th>\n",
       "      <th>AP</th>\n",
       "      <th>AT</th>\n",
       "      <th>ALT</th>\n",
       "      <th>OR</th>\n",
       "      <th>AV</th>\n",
       "      <th>DAV</th>\n",
       "      <th>CRI</th>\n",
       "      <th>CRA</th>\n",
       "    </tr>\n",
       "  </thead>\n",
       "  <tbody>\n",
       "    <tr>\n",
       "      <th>count</th>\n",
       "      <td>768.000000</td>\n",
       "      <td>768.000000</td>\n",
       "      <td>768.000000</td>\n",
       "      <td>768.000000</td>\n",
       "      <td>768.00000</td>\n",
       "      <td>768.000000</td>\n",
       "      <td>768.000000</td>\n",
       "      <td>768.00000</td>\n",
       "      <td>768.000000</td>\n",
       "      <td>768.000000</td>\n",
       "    </tr>\n",
       "    <tr>\n",
       "      <th>mean</th>\n",
       "      <td>0.764167</td>\n",
       "      <td>671.708333</td>\n",
       "      <td>318.500000</td>\n",
       "      <td>176.604167</td>\n",
       "      <td>5.25000</td>\n",
       "      <td>3.500000</td>\n",
       "      <td>0.234375</td>\n",
       "      <td>2.81250</td>\n",
       "      <td>22.307201</td>\n",
       "      <td>24.587760</td>\n",
       "    </tr>\n",
       "    <tr>\n",
       "      <th>std</th>\n",
       "      <td>0.105777</td>\n",
       "      <td>88.086116</td>\n",
       "      <td>43.626481</td>\n",
       "      <td>45.165950</td>\n",
       "      <td>1.75114</td>\n",
       "      <td>1.118763</td>\n",
       "      <td>0.133221</td>\n",
       "      <td>1.55096</td>\n",
       "      <td>10.090196</td>\n",
       "      <td>9.513306</td>\n",
       "    </tr>\n",
       "    <tr>\n",
       "      <th>min</th>\n",
       "      <td>0.620000</td>\n",
       "      <td>514.500000</td>\n",
       "      <td>245.000000</td>\n",
       "      <td>110.250000</td>\n",
       "      <td>3.50000</td>\n",
       "      <td>2.000000</td>\n",
       "      <td>0.000000</td>\n",
       "      <td>0.00000</td>\n",
       "      <td>6.010000</td>\n",
       "      <td>10.900000</td>\n",
       "    </tr>\n",
       "    <tr>\n",
       "      <th>25%</th>\n",
       "      <td>0.682500</td>\n",
       "      <td>606.375000</td>\n",
       "      <td>294.000000</td>\n",
       "      <td>140.875000</td>\n",
       "      <td>3.50000</td>\n",
       "      <td>2.750000</td>\n",
       "      <td>0.100000</td>\n",
       "      <td>1.75000</td>\n",
       "      <td>12.992500</td>\n",
       "      <td>15.620000</td>\n",
       "    </tr>\n",
       "    <tr>\n",
       "      <th>50%</th>\n",
       "      <td>0.750000</td>\n",
       "      <td>673.750000</td>\n",
       "      <td>318.500000</td>\n",
       "      <td>183.750000</td>\n",
       "      <td>5.25000</td>\n",
       "      <td>3.500000</td>\n",
       "      <td>0.250000</td>\n",
       "      <td>3.00000</td>\n",
       "      <td>18.950000</td>\n",
       "      <td>22.080000</td>\n",
       "    </tr>\n",
       "    <tr>\n",
       "      <th>75%</th>\n",
       "      <td>0.830000</td>\n",
       "      <td>741.125000</td>\n",
       "      <td>343.000000</td>\n",
       "      <td>220.500000</td>\n",
       "      <td>7.00000</td>\n",
       "      <td>4.250000</td>\n",
       "      <td>0.400000</td>\n",
       "      <td>4.00000</td>\n",
       "      <td>31.667500</td>\n",
       "      <td>33.132500</td>\n",
       "    </tr>\n",
       "    <tr>\n",
       "      <th>max</th>\n",
       "      <td>0.980000</td>\n",
       "      <td>808.500000</td>\n",
       "      <td>416.500000</td>\n",
       "      <td>220.500000</td>\n",
       "      <td>7.00000</td>\n",
       "      <td>5.000000</td>\n",
       "      <td>0.400000</td>\n",
       "      <td>5.00000</td>\n",
       "      <td>43.100000</td>\n",
       "      <td>48.030000</td>\n",
       "    </tr>\n",
       "  </tbody>\n",
       "</table>\n",
       "</div>"
      ],
      "text/plain": [
       "              COM         SUP          AP          AT        ALT          OR  \\\n",
       "count  768.000000  768.000000  768.000000  768.000000  768.00000  768.000000   \n",
       "mean     0.764167  671.708333  318.500000  176.604167    5.25000    3.500000   \n",
       "std      0.105777   88.086116   43.626481   45.165950    1.75114    1.118763   \n",
       "min      0.620000  514.500000  245.000000  110.250000    3.50000    2.000000   \n",
       "25%      0.682500  606.375000  294.000000  140.875000    3.50000    2.750000   \n",
       "50%      0.750000  673.750000  318.500000  183.750000    5.25000    3.500000   \n",
       "75%      0.830000  741.125000  343.000000  220.500000    7.00000    4.250000   \n",
       "max      0.980000  808.500000  416.500000  220.500000    7.00000    5.000000   \n",
       "\n",
       "               AV        DAV         CRI         CRA  \n",
       "count  768.000000  768.00000  768.000000  768.000000  \n",
       "mean     0.234375    2.81250   22.307201   24.587760  \n",
       "std      0.133221    1.55096   10.090196    9.513306  \n",
       "min      0.000000    0.00000    6.010000   10.900000  \n",
       "25%      0.100000    1.75000   12.992500   15.620000  \n",
       "50%      0.250000    3.00000   18.950000   22.080000  \n",
       "75%      0.400000    4.00000   31.667500   33.132500  \n",
       "max      0.400000    5.00000   43.100000   48.030000  "
      ]
     },
     "execution_count": 334,
     "metadata": {},
     "output_type": "execute_result"
    }
   ],
   "source": [
    "data.describe()"
   ]
  },
  {
   "cell_type": "markdown",
   "metadata": {},
   "source": [
    "Dall'output del comando noto che:\n",
    "* Sono presenti edifici sia con che senza vetrate\n",
    "* Di conseguenza negli edifici senza vetrate la distribuzione di esse avrà valore 0\n",
    "* Il valore minimo di carico di riscaldamento è 6.01 e il massimo 43.1\n",
    "* Il valore minimo di carico di raffreddamento è 10.09 e il massimo 48.03"
   ]
  },
  {
   "cell_type": "markdown",
   "metadata": {},
   "source": [
    "Di seguito sono riportati grafici dove vengono mostrati i conteggi delle feature più rilevanti per capire come sono distribuiti i dati del dataset."
   ]
  },
  {
   "cell_type": "code",
   "execution_count": 335,
   "metadata": {
    "scrolled": false
   },
   "outputs": [
    {
     "data": {
      "image/png": "[encoded data removed]",
      "text/plain": [
       "<Figure size 1440x936 with 4 Axes>"
      ]
     },
     "metadata": {
      "needs_background": "light"
     },
     "output_type": "display_data"
    }
   ],
   "source": [
    "plt.figure(figsize=(20,13))\n",
    "\n",
    "plt.subplot(2,2,1)\n",
    "sb.histplot(x=\"SUP\", data=data);\n",
    "\n",
    "plt.subplot(2,2,2)\n",
    "sb.countplot(x=\"ALT\", data=data);\n",
    "\n",
    "plt.subplot(2,2,3)\n",
    "sb.histplot(x=\"AV\", data=data);\n",
    "\n",
    "plt.subplot(2,2,4)\n",
    "sb.histplot(x=\"DAV\", data=data);"
   ]
  },
  {
   "cell_type": "markdown",
   "metadata": {},
   "source": [
    "Da questi istogrammi deduco che:\n",
    "* L'area superficiale è ben distribuita tra i dati a disposizione\n",
    "* Disponiamo di 2 classi di altezza perfettamente bilanciate\n",
    "* Anche le aree vetrate e le loro distribuzioni sono ben diffuse nel dataset"
   ]
  },
  {
   "cell_type": "markdown",
   "metadata": {},
   "source": [
    "## Esplorazione relazioni tra feature e variabili da predire"
   ]
  },
  {
   "cell_type": "markdown",
   "metadata": {},
   "source": [
    "Definisco una funzione che data una colonna del dataset ritorna la media raggruppando per la colonna selezionata."
   ]
  },
  {
   "cell_type": "code",
   "execution_count": 336,
   "metadata": {},
   "outputs": [],
   "source": [
    "warnings.filterwarnings(\"ignore\")\n",
    "\n",
    "def groupby_mean(colonna):\n",
    "    x = data.groupby(colonna)\n",
    "    return x[\"CRI\", \"CRA\"].mean()"
   ]
  },
  {
   "cell_type": "markdown",
   "metadata": {},
   "source": [
    "Inizio analizzando le due variabili da predire (Carico di riscaldamento e di raffreddamento)."
   ]
  },
  {
   "cell_type": "code",
   "execution_count": 337,
   "metadata": {},
   "outputs": [
    {
     "data": {
      "image/png": "[encoded data removed]",
      "text/plain": [
       "<Figure size 432x288 with 1 Axes>"
      ]
     },
     "metadata": {
      "needs_background": "light"
     },
     "output_type": "display_data"
    }
   ],
   "source": [
    "data.plot.scatter(\"CRI\", \"CRA\", s=4, c=\"blue\");"
   ]
  },
  {
   "cell_type": "markdown",
   "metadata": {},
   "source": [
    "Dal grafico si nota che l'andamento è proporzionale, infatti entrambi aumentano uniformemente.\n",
    "\n",
    "Provo ora ad analizzare i due carichi in funzione delle feature."
   ]
  },
  {
   "cell_type": "markdown",
   "metadata": {},
   "source": [
    "Parto analizzando la colonna relativa alla compattezza dell'edificio per poi procedere con le altre colonne."
   ]
  },
  {
   "cell_type": "code",
   "execution_count": 338,
   "metadata": {
    "scrolled": false
   },
   "outputs": [
    {
     "data": {
      "text/html": [
       "<div>\n",
       "<style scoped>\n",
       "    .dataframe tbody tr th:only-of-type {\n",
       "        vertical-align: middle;\n",
       "    }\n",
       "\n",
       "    .dataframe tbody tr th {\n",
       "        vertical-align: top;\n",
       "    }\n",
       "\n",
       "    .dataframe thead th {\n",
       "        text-align: right;\n",
       "    }\n",
       "</style>\n",
       "<table border=\"1\" class=\"dataframe\">\n",
       "  <thead>\n",
       "    <tr style=\"text-align: right;\">\n",
       "      <th></th>\n",
       "      <th>CRI</th>\n",
       "      <th>CRA</th>\n",
       "    </tr>\n",
       "    <tr>\n",
       "      <th>COM</th>\n",
       "      <th></th>\n",
       "      <th></th>\n",
       "    </tr>\n",
       "  </thead>\n",
       "  <tbody>\n",
       "    <tr>\n",
       "      <th>0.62</th>\n",
       "      <td>14.283281</td>\n",
       "      <td>15.244063</td>\n",
       "    </tr>\n",
       "    <tr>\n",
       "      <th>0.64</th>\n",
       "      <td>16.615313</td>\n",
       "      <td>20.227188</td>\n",
       "    </tr>\n",
       "    <tr>\n",
       "      <th>0.66</th>\n",
       "      <td>12.816719</td>\n",
       "      <td>15.869844</td>\n",
       "    </tr>\n",
       "    <tr>\n",
       "      <th>0.69</th>\n",
       "      <td>12.388906</td>\n",
       "      <td>15.242188</td>\n",
       "    </tr>\n",
       "    <tr>\n",
       "      <th>0.71</th>\n",
       "      <td>12.040156</td>\n",
       "      <td>15.035469</td>\n",
       "    </tr>\n",
       "    <tr>\n",
       "      <th>0.74</th>\n",
       "      <td>11.886719</td>\n",
       "      <td>14.809844</td>\n",
       "    </tr>\n",
       "    <tr>\n",
       "      <th>0.76</th>\n",
       "      <td>35.664219</td>\n",
       "      <td>36.407188</td>\n",
       "    </tr>\n",
       "    <tr>\n",
       "      <th>0.79</th>\n",
       "      <td>38.607969</td>\n",
       "      <td>40.239375</td>\n",
       "    </tr>\n",
       "    <tr>\n",
       "      <th>0.82</th>\n",
       "      <td>25.555313</td>\n",
       "      <td>28.028125</td>\n",
       "    </tr>\n",
       "    <tr>\n",
       "      <th>0.86</th>\n",
       "      <td>28.552656</td>\n",
       "      <td>30.912031</td>\n",
       "    </tr>\n",
       "    <tr>\n",
       "      <th>0.90</th>\n",
       "      <td>31.628906</td>\n",
       "      <td>33.820781</td>\n",
       "    </tr>\n",
       "    <tr>\n",
       "      <th>0.98</th>\n",
       "      <td>27.646250</td>\n",
       "      <td>29.217031</td>\n",
       "    </tr>\n",
       "  </tbody>\n",
       "</table>\n",
       "</div>"
      ],
      "text/plain": [
       "            CRI        CRA\n",
       "COM                       \n",
       "0.62  14.283281  15.244063\n",
       "0.64  16.615313  20.227188\n",
       "0.66  12.816719  15.869844\n",
       "0.69  12.388906  15.242188\n",
       "0.71  12.040156  15.035469\n",
       "0.74  11.886719  14.809844\n",
       "0.76  35.664219  36.407188\n",
       "0.79  38.607969  40.239375\n",
       "0.82  25.555313  28.028125\n",
       "0.86  28.552656  30.912031\n",
       "0.90  31.628906  33.820781\n",
       "0.98  27.646250  29.217031"
      ]
     },
     "execution_count": 338,
     "metadata": {},
     "output_type": "execute_result"
    }
   ],
   "source": [
    "groupby_mean(\"COM\") "
   ]
  },
  {
   "cell_type": "code",
   "execution_count": 339,
   "metadata": {},
   "outputs": [
    {
     "data": {
      "text/html": [
       "<div>\n",
       "<style scoped>\n",
       "    .dataframe tbody tr th:only-of-type {\n",
       "        vertical-align: middle;\n",
       "    }\n",
       "\n",
       "    .dataframe tbody tr th {\n",
       "        vertical-align: top;\n",
       "    }\n",
       "\n",
       "    .dataframe thead th {\n",
       "        text-align: right;\n",
       "    }\n",
       "</style>\n",
       "<table border=\"1\" class=\"dataframe\">\n",
       "  <thead>\n",
       "    <tr style=\"text-align: right;\">\n",
       "      <th></th>\n",
       "      <th>CRI</th>\n",
       "      <th>CRA</th>\n",
       "    </tr>\n",
       "    <tr>\n",
       "      <th>SUP</th>\n",
       "      <th></th>\n",
       "      <th></th>\n",
       "    </tr>\n",
       "  </thead>\n",
       "  <tbody>\n",
       "    <tr>\n",
       "      <th>514.5</th>\n",
       "      <td>27.646250</td>\n",
       "      <td>29.217031</td>\n",
       "    </tr>\n",
       "    <tr>\n",
       "      <th>563.5</th>\n",
       "      <td>31.628906</td>\n",
       "      <td>33.820781</td>\n",
       "    </tr>\n",
       "    <tr>\n",
       "      <th>588.0</th>\n",
       "      <td>28.552656</td>\n",
       "      <td>30.912031</td>\n",
       "    </tr>\n",
       "    <tr>\n",
       "      <th>612.5</th>\n",
       "      <td>25.555313</td>\n",
       "      <td>28.028125</td>\n",
       "    </tr>\n",
       "    <tr>\n",
       "      <th>637.0</th>\n",
       "      <td>38.607969</td>\n",
       "      <td>40.239375</td>\n",
       "    </tr>\n",
       "    <tr>\n",
       "      <th>661.5</th>\n",
       "      <td>35.664219</td>\n",
       "      <td>36.407188</td>\n",
       "    </tr>\n",
       "    <tr>\n",
       "      <th>686.0</th>\n",
       "      <td>11.886719</td>\n",
       "      <td>14.809844</td>\n",
       "    </tr>\n",
       "    <tr>\n",
       "      <th>710.5</th>\n",
       "      <td>12.040156</td>\n",
       "      <td>15.035469</td>\n",
       "    </tr>\n",
       "    <tr>\n",
       "      <th>735.0</th>\n",
       "      <td>12.388906</td>\n",
       "      <td>15.242188</td>\n",
       "    </tr>\n",
       "    <tr>\n",
       "      <th>759.5</th>\n",
       "      <td>12.816719</td>\n",
       "      <td>15.869844</td>\n",
       "    </tr>\n",
       "    <tr>\n",
       "      <th>784.0</th>\n",
       "      <td>16.615313</td>\n",
       "      <td>20.227188</td>\n",
       "    </tr>\n",
       "    <tr>\n",
       "      <th>808.5</th>\n",
       "      <td>14.283281</td>\n",
       "      <td>15.244063</td>\n",
       "    </tr>\n",
       "  </tbody>\n",
       "</table>\n",
       "</div>"
      ],
      "text/plain": [
       "             CRI        CRA\n",
       "SUP                        \n",
       "514.5  27.646250  29.217031\n",
       "563.5  31.628906  33.820781\n",
       "588.0  28.552656  30.912031\n",
       "612.5  25.555313  28.028125\n",
       "637.0  38.607969  40.239375\n",
       "661.5  35.664219  36.407188\n",
       "686.0  11.886719  14.809844\n",
       "710.5  12.040156  15.035469\n",
       "735.0  12.388906  15.242188\n",
       "759.5  12.816719  15.869844\n",
       "784.0  16.615313  20.227188\n",
       "808.5  14.283281  15.244063"
      ]
     },
     "execution_count": 339,
     "metadata": {},
     "output_type": "execute_result"
    }
   ],
   "source": [
    "groupby_mean(\"SUP\") "
   ]
  },
  {
   "cell_type": "code",
   "execution_count": 340,
   "metadata": {},
   "outputs": [
    {
     "data": {
      "text/html": [
       "<div>\n",
       "<style scoped>\n",
       "    .dataframe tbody tr th:only-of-type {\n",
       "        vertical-align: middle;\n",
       "    }\n",
       "\n",
       "    .dataframe tbody tr th {\n",
       "        vertical-align: top;\n",
       "    }\n",
       "\n",
       "    .dataframe thead th {\n",
       "        text-align: right;\n",
       "    }\n",
       "</style>\n",
       "<table border=\"1\" class=\"dataframe\">\n",
       "  <thead>\n",
       "    <tr style=\"text-align: right;\">\n",
       "      <th></th>\n",
       "      <th>CRI</th>\n",
       "      <th>CRA</th>\n",
       "    </tr>\n",
       "    <tr>\n",
       "      <th>AP</th>\n",
       "      <th></th>\n",
       "      <th></th>\n",
       "    </tr>\n",
       "  </thead>\n",
       "  <tbody>\n",
       "    <tr>\n",
       "      <th>245.0</th>\n",
       "      <td>11.886719</td>\n",
       "      <td>14.809844</td>\n",
       "    </tr>\n",
       "    <tr>\n",
       "      <th>269.5</th>\n",
       "      <td>12.040156</td>\n",
       "      <td>15.035469</td>\n",
       "    </tr>\n",
       "    <tr>\n",
       "      <th>294.0</th>\n",
       "      <td>22.862604</td>\n",
       "      <td>25.123750</td>\n",
       "    </tr>\n",
       "    <tr>\n",
       "      <th>318.5</th>\n",
       "      <td>23.333646</td>\n",
       "      <td>25.906250</td>\n",
       "    </tr>\n",
       "    <tr>\n",
       "      <th>343.0</th>\n",
       "      <td>27.611641</td>\n",
       "      <td>30.233281</td>\n",
       "    </tr>\n",
       "    <tr>\n",
       "      <th>367.5</th>\n",
       "      <td>14.283281</td>\n",
       "      <td>15.244063</td>\n",
       "    </tr>\n",
       "    <tr>\n",
       "      <th>416.5</th>\n",
       "      <td>35.664219</td>\n",
       "      <td>36.407188</td>\n",
       "    </tr>\n",
       "  </tbody>\n",
       "</table>\n",
       "</div>"
      ],
      "text/plain": [
       "             CRI        CRA\n",
       "AP                         \n",
       "245.0  11.886719  14.809844\n",
       "269.5  12.040156  15.035469\n",
       "294.0  22.862604  25.123750\n",
       "318.5  23.333646  25.906250\n",
       "343.0  27.611641  30.233281\n",
       "367.5  14.283281  15.244063\n",
       "416.5  35.664219  36.407188"
      ]
     },
     "execution_count": 340,
     "metadata": {},
     "output_type": "execute_result"
    }
   ],
   "source": [
    "groupby_mean(\"AP\") "
   ]
  },
  {
   "cell_type": "code",
   "execution_count": 341,
   "metadata": {},
   "outputs": [
    {
     "data": {
      "text/html": [
       "<div>\n",
       "<style scoped>\n",
       "    .dataframe tbody tr th:only-of-type {\n",
       "        vertical-align: middle;\n",
       "    }\n",
       "\n",
       "    .dataframe tbody tr th {\n",
       "        vertical-align: top;\n",
       "    }\n",
       "\n",
       "    .dataframe thead th {\n",
       "        text-align: right;\n",
       "    }\n",
       "</style>\n",
       "<table border=\"1\" class=\"dataframe\">\n",
       "  <thead>\n",
       "    <tr style=\"text-align: right;\">\n",
       "      <th></th>\n",
       "      <th>CRI</th>\n",
       "      <th>CRA</th>\n",
       "    </tr>\n",
       "    <tr>\n",
       "      <th>ALT</th>\n",
       "      <th></th>\n",
       "      <th></th>\n",
       "    </tr>\n",
       "  </thead>\n",
       "  <tbody>\n",
       "    <tr>\n",
       "      <th>3.5</th>\n",
       "      <td>13.338516</td>\n",
       "      <td>16.071432</td>\n",
       "    </tr>\n",
       "    <tr>\n",
       "      <th>7.0</th>\n",
       "      <td>31.275885</td>\n",
       "      <td>33.104089</td>\n",
       "    </tr>\n",
       "  </tbody>\n",
       "</table>\n",
       "</div>"
      ],
      "text/plain": [
       "           CRI        CRA\n",
       "ALT                      \n",
       "3.5  13.338516  16.071432\n",
       "7.0  31.275885  33.104089"
      ]
     },
     "execution_count": 341,
     "metadata": {},
     "output_type": "execute_result"
    }
   ],
   "source": [
    "groupby_mean(\"ALT\") "
   ]
  },
  {
   "cell_type": "code",
   "execution_count": 342,
   "metadata": {},
   "outputs": [
    {
     "data": {
      "text/html": [
       "<div>\n",
       "<style scoped>\n",
       "    .dataframe tbody tr th:only-of-type {\n",
       "        vertical-align: middle;\n",
       "    }\n",
       "\n",
       "    .dataframe tbody tr th {\n",
       "        vertical-align: top;\n",
       "    }\n",
       "\n",
       "    .dataframe thead th {\n",
       "        text-align: right;\n",
       "    }\n",
       "</style>\n",
       "<table border=\"1\" class=\"dataframe\">\n",
       "  <thead>\n",
       "    <tr style=\"text-align: right;\">\n",
       "      <th></th>\n",
       "      <th>CRI</th>\n",
       "      <th>CRA</th>\n",
       "    </tr>\n",
       "    <tr>\n",
       "      <th>AV</th>\n",
       "      <th></th>\n",
       "      <th></th>\n",
       "    </tr>\n",
       "  </thead>\n",
       "  <tbody>\n",
       "    <tr>\n",
       "      <th>0.00</th>\n",
       "      <td>14.286458</td>\n",
       "      <td>19.706250</td>\n",
       "    </tr>\n",
       "    <tr>\n",
       "      <th>0.10</th>\n",
       "      <td>20.357167</td>\n",
       "      <td>22.935542</td>\n",
       "    </tr>\n",
       "    <tr>\n",
       "      <th>0.25</th>\n",
       "      <td>22.756917</td>\n",
       "      <td>24.892625</td>\n",
       "    </tr>\n",
       "    <tr>\n",
       "      <th>0.40</th>\n",
       "      <td>25.411667</td>\n",
       "      <td>26.911417</td>\n",
       "    </tr>\n",
       "  </tbody>\n",
       "</table>\n",
       "</div>"
      ],
      "text/plain": [
       "            CRI        CRA\n",
       "AV                        \n",
       "0.00  14.286458  19.706250\n",
       "0.10  20.357167  22.935542\n",
       "0.25  22.756917  24.892625\n",
       "0.40  25.411667  26.911417"
      ]
     },
     "execution_count": 342,
     "metadata": {},
     "output_type": "execute_result"
    }
   ],
   "source": [
    "groupby_mean(\"AV\") "
   ]
  },
  {
   "cell_type": "code",
   "execution_count": 343,
   "metadata": {
    "scrolled": true
   },
   "outputs": [
    {
     "data": {
      "text/html": [
       "<div>\n",
       "<style scoped>\n",
       "    .dataframe tbody tr th:only-of-type {\n",
       "        vertical-align: middle;\n",
       "    }\n",
       "\n",
       "    .dataframe tbody tr th {\n",
       "        vertical-align: top;\n",
       "    }\n",
       "\n",
       "    .dataframe thead th {\n",
       "        text-align: right;\n",
       "    }\n",
       "</style>\n",
       "<table border=\"1\" class=\"dataframe\">\n",
       "  <thead>\n",
       "    <tr style=\"text-align: right;\">\n",
       "      <th></th>\n",
       "      <th>CRI</th>\n",
       "      <th>CRA</th>\n",
       "    </tr>\n",
       "    <tr>\n",
       "      <th>DAV</th>\n",
       "      <th></th>\n",
       "      <th></th>\n",
       "    </tr>\n",
       "  </thead>\n",
       "  <tbody>\n",
       "    <tr>\n",
       "      <th>0.0</th>\n",
       "      <td>14.286458</td>\n",
       "      <td>19.706250</td>\n",
       "    </tr>\n",
       "    <tr>\n",
       "      <th>1.0</th>\n",
       "      <td>23.026111</td>\n",
       "      <td>25.179514</td>\n",
       "    </tr>\n",
       "    <tr>\n",
       "      <th>2.0</th>\n",
       "      <td>22.934444</td>\n",
       "      <td>24.996875</td>\n",
       "    </tr>\n",
       "    <tr>\n",
       "      <th>3.0</th>\n",
       "      <td>22.681458</td>\n",
       "      <td>24.659444</td>\n",
       "    </tr>\n",
       "    <tr>\n",
       "      <th>4.0</th>\n",
       "      <td>22.886667</td>\n",
       "      <td>25.015139</td>\n",
       "    </tr>\n",
       "    <tr>\n",
       "      <th>5.0</th>\n",
       "      <td>22.680903</td>\n",
       "      <td>24.715000</td>\n",
       "    </tr>\n",
       "  </tbody>\n",
       "</table>\n",
       "</div>"
      ],
      "text/plain": [
       "           CRI        CRA\n",
       "DAV                      \n",
       "0.0  14.286458  19.706250\n",
       "1.0  23.026111  25.179514\n",
       "2.0  22.934444  24.996875\n",
       "3.0  22.681458  24.659444\n",
       "4.0  22.886667  25.015139\n",
       "5.0  22.680903  24.715000"
      ]
     },
     "execution_count": 343,
     "metadata": {},
     "output_type": "execute_result"
    }
   ],
   "source": [
    "groupby_mean(\"DAV\") "
   ]
  },
  {
   "cell_type": "markdown",
   "metadata": {},
   "source": [
    "Da questi raggruppamenti noto che aumentando la compattezza relativa, la superficie, l'area della parete, l'altezza, l'area vetrata e la distribuzione dell'area vetrata aumentano anche il carico di riscaldamento e quello di raffreddamento.\n",
    "\n",
    "Ora invece analizzo la colonna relativa all'orientazione e all'area del tetto."
   ]
  },
  {
   "cell_type": "code",
   "execution_count": 344,
   "metadata": {
    "scrolled": true
   },
   "outputs": [
    {
     "data": {
      "text/html": [
       "<div>\n",
       "<style scoped>\n",
       "    .dataframe tbody tr th:only-of-type {\n",
       "        vertical-align: middle;\n",
       "    }\n",
       "\n",
       "    .dataframe tbody tr th {\n",
       "        vertical-align: top;\n",
       "    }\n",
       "\n",
       "    .dataframe thead th {\n",
       "        text-align: right;\n",
       "    }\n",
       "</style>\n",
       "<table border=\"1\" class=\"dataframe\">\n",
       "  <thead>\n",
       "    <tr style=\"text-align: right;\">\n",
       "      <th></th>\n",
       "      <th>CRI</th>\n",
       "      <th>CRA</th>\n",
       "    </tr>\n",
       "    <tr>\n",
       "      <th>OR</th>\n",
       "      <th></th>\n",
       "      <th></th>\n",
       "    </tr>\n",
       "  </thead>\n",
       "  <tbody>\n",
       "    <tr>\n",
       "      <th>2.0</th>\n",
       "      <td>22.312865</td>\n",
       "      <td>24.604531</td>\n",
       "    </tr>\n",
       "    <tr>\n",
       "      <th>3.0</th>\n",
       "      <td>22.380677</td>\n",
       "      <td>24.312552</td>\n",
       "    </tr>\n",
       "    <tr>\n",
       "      <th>4.0</th>\n",
       "      <td>22.259896</td>\n",
       "      <td>24.480312</td>\n",
       "    </tr>\n",
       "    <tr>\n",
       "      <th>5.0</th>\n",
       "      <td>22.275365</td>\n",
       "      <td>24.953646</td>\n",
       "    </tr>\n",
       "  </tbody>\n",
       "</table>\n",
       "</div>"
      ],
      "text/plain": [
       "           CRI        CRA\n",
       "OR                       \n",
       "2.0  22.312865  24.604531\n",
       "3.0  22.380677  24.312552\n",
       "4.0  22.259896  24.480312\n",
       "5.0  22.275365  24.953646"
      ]
     },
     "execution_count": 344,
     "metadata": {},
     "output_type": "execute_result"
    }
   ],
   "source": [
    "groupby_mean(\"OR\") "
   ]
  },
  {
   "cell_type": "markdown",
   "metadata": {},
   "source": [
    "Salta subito all'occhio che l'orientazione dell'edificio non influisce minimamente sui due carichi."
   ]
  },
  {
   "cell_type": "code",
   "execution_count": 345,
   "metadata": {},
   "outputs": [
    {
     "data": {
      "text/html": [
       "<div>\n",
       "<style scoped>\n",
       "    .dataframe tbody tr th:only-of-type {\n",
       "        vertical-align: middle;\n",
       "    }\n",
       "\n",
       "    .dataframe tbody tr th {\n",
       "        vertical-align: top;\n",
       "    }\n",
       "\n",
       "    .dataframe thead th {\n",
       "        text-align: right;\n",
       "    }\n",
       "</style>\n",
       "<table border=\"1\" class=\"dataframe\">\n",
       "  <thead>\n",
       "    <tr style=\"text-align: right;\">\n",
       "      <th></th>\n",
       "      <th>CRI</th>\n",
       "      <th>CRA</th>\n",
       "    </tr>\n",
       "    <tr>\n",
       "      <th>AT</th>\n",
       "      <th></th>\n",
       "      <th></th>\n",
       "    </tr>\n",
       "  </thead>\n",
       "  <tbody>\n",
       "    <tr>\n",
       "      <th>110.25</th>\n",
       "      <td>27.646250</td>\n",
       "      <td>29.217031</td>\n",
       "    </tr>\n",
       "    <tr>\n",
       "      <th>122.50</th>\n",
       "      <td>33.646563</td>\n",
       "      <td>35.113984</td>\n",
       "    </tr>\n",
       "    <tr>\n",
       "      <th>147.00</th>\n",
       "      <td>30.905313</td>\n",
       "      <td>33.059844</td>\n",
       "    </tr>\n",
       "    <tr>\n",
       "      <th>220.50</th>\n",
       "      <td>13.338516</td>\n",
       "      <td>16.071432</td>\n",
       "    </tr>\n",
       "  </tbody>\n",
       "</table>\n",
       "</div>"
      ],
      "text/plain": [
       "              CRI        CRA\n",
       "AT                          \n",
       "110.25  27.646250  29.217031\n",
       "122.50  33.646563  35.113984\n",
       "147.00  30.905313  33.059844\n",
       "220.50  13.338516  16.071432"
      ]
     },
     "execution_count": 345,
     "metadata": {},
     "output_type": "execute_result"
    }
   ],
   "source": [
    "groupby_mean(\"AT\") "
   ]
  },
  {
   "cell_type": "markdown",
   "metadata": {},
   "source": [
    "Da questo raggruppamento invece noto che con l'aumentare dell'altezza dell'edificio i due carichi diminuiscono di intensità."
   ]
  },
  {
   "cell_type": "markdown",
   "metadata": {},
   "source": [
    "## Inizio delle predizioni\n",
    "\n",
    "Ovviamente essendoci due carichi prima predirò quello di riscaldamento poi quello di raffreddamento.\\\n",
    "Inizio dichiarando qualche funzione utile per evitare di ripetere tante righe di codice due volte."
   ]
  },
  {
   "cell_type": "code",
   "execution_count": 346,
   "metadata": {},
   "outputs": [],
   "source": [
    "def regressione_lineare(X, y, X_val):\n",
    "    \n",
    "    mod = LinearRegression()\n",
    "    mod.fit(X, y)\n",
    "    \n",
    "    return mod, mod.predict(X_val)"
   ]
  },
  {
   "cell_type": "code",
   "execution_count": 347,
   "metadata": {},
   "outputs": [],
   "source": [
    "def regressione_polinomiale(X, y, X_val):\n",
    "    \n",
    "    mod = Pipeline([\n",
    "        (\"polinomiale\", PolynomialFeatures(degree=2, include_bias=False)),\n",
    "        (\"lineare\", LinearRegression())\n",
    "    ])\n",
    "    \n",
    "    mod.fit(X, y)\n",
    "    \n",
    "    return mod, mod.predict(X_val)"
   ]
  },
  {
   "cell_type": "code",
   "execution_count": 348,
   "metadata": {},
   "outputs": [],
   "source": [
    "def regressione_polinomiale_gridsearch(X, y):\n",
    "    \n",
    "    pip = Pipeline(steps=[\n",
    "        (\"polinomiale\", PolynomialFeatures(include_bias=False)),\n",
    "        (\"lineare\", LinearRegression())\n",
    "    ])\n",
    "    \n",
    "    mod = GridSearchCV(\n",
    "        estimator=pip,\n",
    "        param_grid={'polinomiale__degree': list(range(3,11))},\n",
    "        scoring='r2',\n",
    "    )\n",
    "    \n",
    "    mod.fit(X, y)\n",
    "    \n",
    "    return mod"
   ]
  },
  {
   "cell_type": "code",
   "execution_count": 349,
   "metadata": {},
   "outputs": [],
   "source": [
    "def regressione_ridge(X, y):\n",
    "    \n",
    "    mod = Ridge()\n",
    "    param = {'alpha': range(1,20)}\n",
    "    reg = GridSearchCV(mod, param, scoring='r2')\n",
    "    reg.fit(X_train, y_train)\n",
    "    \n",
    "    return reg"
   ]
  },
  {
   "cell_type": "code",
   "execution_count": 350,
   "metadata": {},
   "outputs": [],
   "source": [
    "def MSE(preds, y_val):\n",
    "    return np.mean((preds - y_val)**2)"
   ]
  },
  {
   "cell_type": "code",
   "execution_count": 351,
   "metadata": {},
   "outputs": [],
   "source": [
    "def errore_rel(preds, y_val):\n",
    "    return np.mean(np.abs(preds-y_val)/y_val)"
   ]
  },
  {
   "cell_type": "markdown",
   "metadata": {},
   "source": [
    "Passo ora all'effettiva divisione dei dati in training e validation set."
   ]
  },
  {
   "cell_type": "code",
   "execution_count": 352,
   "metadata": {},
   "outputs": [],
   "source": [
    "X = data.drop(columns=['CRI', 'CRA'])\n",
    "y = data['CRI']\n",
    "\n",
    "X_train,X_val,y_train,y_val = train_test_split(X, y, train_size=0.7)"
   ]
  },
  {
   "cell_type": "markdown",
   "metadata": {},
   "source": [
    "Definisco qualche funzione per poter stampare gli errori in maniera comoda ed efficiente."
   ]
  },
  {
   "cell_type": "code",
   "execution_count": 353,
   "metadata": {},
   "outputs": [],
   "source": [
    "def stampa_errori(mod, X_train, X_val, y_train, y_val, preds):\n",
    "    \n",
    "    print(\"                                 MSE: {:.5}\".format(MSE(preds, y_val)))\n",
    "    print(\"                     Errore relativo: {:.4%}\".format(errore_rel(preds, y_val)))\n",
    "    print(\"Coefficiente R quadro validation set: {:.5}\".format(mod.score(X_val, y_val)))"
   ]
  },
  {
   "cell_type": "markdown",
   "metadata": {},
   "source": [
    "## Predizione del carico di riscaldamento con vari modelli\n",
    "\n",
    "Inizio utilizzando un modello di regressione lineare.\\\n",
    "Per ogni regressione utilizzata appendo il coefficiente R quadro in una lista che servirà per visualizzare l'accuratezza dei modelli nelle conclusioni.\\\n",
    "Inizializzo due liste, una per il carico di riscaldamento e una per quello di raffreddamento."
   ]
  },
  {
   "cell_type": "code",
   "execution_count": 354,
   "metadata": {},
   "outputs": [],
   "source": [
    "R_CRI = []\n",
    "R_CRA = []"
   ]
  },
  {
   "cell_type": "code",
   "execution_count": 355,
   "metadata": {
    "scrolled": true
   },
   "outputs": [
    {
     "name": "stdout",
     "output_type": "stream",
     "text": [
      "                                 MSE: 8.3788\n",
      "                     Errore relativo: 9.7061%\n",
      "Coefficiente R quadro validation set: 0.91112\n"
     ]
    }
   ],
   "source": [
    "mod, preds = regressione_lineare(X_train, y_train, X_val)\n",
    "\n",
    "stampa_errori(mod, X_train, X_val, y_train, y_val, preds)\n",
    "\n",
    "R_CRI.append(mod.score(X_val, y_val))"
   ]
  },
  {
   "cell_type": "markdown",
   "metadata": {},
   "source": [
    "Ottengo un ottimo risultato per quanto riguarda il coefficiente R quadro, mentre trovo un errore relativo e un MSE piuttosto alti.\n",
    "\n",
    "Provo ora con una regressione polinomiale di grado 2."
   ]
  },
  {
   "cell_type": "code",
   "execution_count": 356,
   "metadata": {},
   "outputs": [
    {
     "name": "stdout",
     "output_type": "stream",
     "text": [
      "                                 MSE: 0.62644\n",
      "                     Errore relativo: 2.9821%\n",
      "Coefficiente R quadro validation set: 0.99336\n"
     ]
    }
   ],
   "source": [
    "mod, preds = regressione_polinomiale(X_train, y_train, X_val)\n",
    "\n",
    "stampa_errori(mod, X_train, X_val, y_train, y_val, preds)\n",
    "\n",
    "R_CRI.append(mod.score(X_val, y_val))"
   ]
  },
  {
   "cell_type": "markdown",
   "metadata": {},
   "source": [
    "Si nota subito che l'R quadro ottenuto è al limite della perfezione (0.99), inoltre anche l'MSE e l'errore relativo risultano ottimi valori."
   ]
  },
  {
   "cell_type": "markdown",
   "metadata": {},
   "source": [
    "Provo ora a migliorare ulteriormente il nostro modello utilizzando polinomi di grado maggiore di quello che è stato usato in precedenza (grado 2).\n",
    "Per farlo utilizzo la GridSearchCV cercando il risultato migliore con i gradi dei polinomi tra 3 e 10."
   ]
  },
  {
   "cell_type": "code",
   "execution_count": 357,
   "metadata": {},
   "outputs": [
    {
     "name": "stdout",
     "output_type": "stream",
     "text": [
      "Miglior grado trovato: 3\n",
      "Coefficiente R quadro: 0.99623\n"
     ]
    }
   ],
   "source": [
    "mod = regressione_polinomiale_gridsearch(X_train, y_train)\n",
    "\n",
    "print(\"Miglior grado trovato: {}\".format(mod.best_params_[\"polinomiale__degree\"]))\n",
    "print(\"Coefficiente R quadro: {:.5}\".format(mod.score(X_val, y_val)))\n",
    "\n",
    "R_CRI_GD = mod.best_params_[\"polinomiale__degree\"]\n",
    "R_CRI.append(mod.score(X_val, y_val))"
   ]
  },
  {
   "cell_type": "markdown",
   "metadata": {},
   "source": [
    "Ottengo il miglior risultato con un polinomio di terzo grado e con un R quadro ancora migliore rispetto alla regressione polinomiale di secondo grado."
   ]
  },
  {
   "cell_type": "markdown",
   "metadata": {},
   "source": [
    "Provo ora ad addestrare un modello Ridge facendo variare alpha da 1 a 10 con la GridSearchCV."
   ]
  },
  {
   "cell_type": "code",
   "execution_count": 358,
   "metadata": {},
   "outputs": [
    {
     "name": "stdout",
     "output_type": "stream",
     "text": [
      "Miglior alpha trovato: 1\n",
      "Coefficiente R quadro: 0.90769\n"
     ]
    }
   ],
   "source": [
    "mod = regressione_ridge(X_train, y_train)\n",
    "\n",
    "print(\"Miglior alpha trovato: {}\".format(mod.best_params_['alpha']))\n",
    "print(\"Coefficiente R quadro: {:.5}\".format(mod.score(X_val, y_val)))\n",
    "\n",
    "R_CRI.append(mod.score(X_val, y_val))"
   ]
  },
  {
   "cell_type": "markdown",
   "metadata": {},
   "source": [
    "Noto che la miglior configurazione di regressione Ridge avviene con alpha = 1 e addestra un modello caratterizzato da un buon R quadro.\\\n",
    "Pur essendo un ottimo risultato (pari a quello della regressione lineare) è inferiore a quello trovato con un modello di regressione polinomiale di grado 4."
   ]
  },
  {
   "cell_type": "markdown",
   "metadata": {},
   "source": [
    "## Predizione del carico di raffreddamento con vari modelli\n",
    "\n",
    "Ripeto le stesse prove con gli stessi modelli che ho utilizzato per il carico di riscaldamento.\n",
    "Ovviamente cambio le variabili X e y utilizzate prima impostando *CRA* come variabile da predire."
   ]
  },
  {
   "cell_type": "code",
   "execution_count": 359,
   "metadata": {},
   "outputs": [],
   "source": [
    "X = data.drop(columns=['CRI', 'CRA'])\n",
    "y = data['CRA']\n",
    "\n",
    "X_train,X_val,y_train,y_val = train_test_split(X, y, train_size=0.7)"
   ]
  },
  {
   "cell_type": "markdown",
   "metadata": {},
   "source": [
    "Inizio con la regressione lineare."
   ]
  },
  {
   "cell_type": "code",
   "execution_count": 360,
   "metadata": {},
   "outputs": [
    {
     "name": "stdout",
     "output_type": "stream",
     "text": [
      "                                 MSE: 12.323\n",
      "                     Errore relativo: 9.2747%\n",
      "Coefficiente R quadro validation set: 0.8662\n"
     ]
    }
   ],
   "source": [
    "mod, preds = regressione_lineare(X_train, y_train, X_val)\n",
    "\n",
    "stampa_errori(mod, X_train, X_val, y_train, y_val, preds)\n",
    "\n",
    "R_CRA.append(mod.score(X_val, y_val))"
   ]
  },
  {
   "cell_type": "markdown",
   "metadata": {},
   "source": [
    "Similmente a prima ottengo un buon R quadro mentre l'errore relativo e l'MSE sono piuttosto alti.\n",
    "\n",
    "Continuiamo addestro un modello di regressione polinomiale di grado 2."
   ]
  },
  {
   "cell_type": "code",
   "execution_count": 361,
   "metadata": {},
   "outputs": [
    {
     "name": "stdout",
     "output_type": "stream",
     "text": [
      "                                 MSE: 3.3622\n",
      "                     Errore relativo: 4.2759%\n",
      "Coefficiente R quadro validation set: 0.96349\n"
     ]
    }
   ],
   "source": [
    "mod, preds = regressione_polinomiale(X_train, y_train, X_val)\n",
    "\n",
    "stampa_errori(mod, X_train, X_val, y_train, y_val, preds)\n",
    "\n",
    "R_CRA.append(mod.score(X_val, y_val))"
   ]
  },
  {
   "cell_type": "markdown",
   "metadata": {},
   "source": [
    "Come prima con la regressione polinomiale di grado 2 ottengo un eccellente R quadro e un ottimo errore relativo, analizzando l'MSE noto una differenza rispetto a prima, infatti abbiamo trovato un valore mediamente alto.\n",
    "\n",
    "Procedo provando altri gradi (da 3 a 10) di regressione polinomiale utilizzando GridSearchCV."
   ]
  },
  {
   "cell_type": "code",
   "execution_count": 362,
   "metadata": {
    "scrolled": true
   },
   "outputs": [
    {
     "name": "stdout",
     "output_type": "stream",
     "text": [
      "Miglior grado trovato: 3\n",
      "Coefficiente R quadro: 0.96572\n"
     ]
    }
   ],
   "source": [
    "mod = regressione_polinomiale_gridsearch(X_train, y_train)\n",
    "\n",
    "print(\"Miglior grado trovato: {}\".format(mod.best_params_[\"polinomiale__degree\"]))\n",
    "print(\"Coefficiente R quadro: {:.5}\".format(mod.score(X_val, y_val)))\n",
    "\n",
    "R_CRA_GD = mod.best_params_[\"polinomiale__degree\"]\n",
    "R_CRA.append(mod.score(X_val, y_val))"
   ]
  },
  {
   "cell_type": "markdown",
   "metadata": {},
   "source": [
    "Come per il carico di riscaldamento il miglior grado trovato è 3 e anche l'R quadro è un buon risultato.\n",
    "\n",
    "Procedo ora con la regressione Ridge."
   ]
  },
  {
   "cell_type": "code",
   "execution_count": 363,
   "metadata": {
    "scrolled": true
   },
   "outputs": [
    {
     "name": "stdout",
     "output_type": "stream",
     "text": [
      "Miglior alpha trovato: 1\n",
      "Coefficiente R quadro: 0.86079\n"
     ]
    }
   ],
   "source": [
    "mod = regressione_ridge(X_train, y_train)\n",
    "\n",
    "print(\"Miglior alpha trovato: {}\".format(mod.best_params_['alpha']))\n",
    "print(\"Coefficiente R quadro: {:.5}\".format(mod.score(X_val, y_val)))\n",
    "\n",
    "R_CRA.append(mod.score(X_val, y_val))"
   ]
  },
  {
   "cell_type": "markdown",
   "metadata": {},
   "source": [
    "Rispetto al risultato ottenuto precedentemente questo è leggermente peggio, l'alpha migliore rimane 1."
   ]
  },
  {
   "cell_type": "markdown",
   "metadata": {},
   "source": [
    "## Conclusione"
   ]
  },
  {
   "cell_type": "code",
   "execution_count": 364,
   "metadata": {},
   "outputs": [
    {
     "name": "stdout",
     "output_type": "stream",
     "text": [
      "Coefficiente R quadro carico di riscaldamento (CRI):\n",
      "            Regressione Lineare: 0.91112\n",
      "Regressione Polinomiale grado 2: 0.99336\n",
      "Regressione Polinomiale grado 3: 0.99623\n",
      "              Regressione Ridge: 0.90769\n",
      "\n",
      "Coefficiente R quadro carico di raffreddamento (CRA):\n",
      "            Regressione Lineare: 0.8662\n",
      "Regressione Polinomiale grado 2: 0.96349\n",
      "Regressione Polinomiale grado 3: 0.96572\n",
      "              Regressione Ridge: 0.86079\n"
     ]
    }
   ],
   "source": [
    "print(\"Coefficiente R quadro carico di riscaldamento (CRI):\")\n",
    "print(\"            Regressione Lineare: {:.5}\".format(R_CRI[0]))\n",
    "print(\"Regressione Polinomiale grado 2: {:.5}\".format(R_CRI[1]))\n",
    "print(\"Regressione Polinomiale grado \" + str(R_CRI_GD) + \": {:.5}\".format(R_CRI[2]))\n",
    "print(\"              Regressione Ridge: {:.5}\".format(R_CRI[3]))\n",
    "print(\"\")\n",
    "print(\"Coefficiente R quadro carico di raffreddamento (CRA):\")\n",
    "print(\"            Regressione Lineare: {:.5}\".format(R_CRA[0]))\n",
    "print(\"Regressione Polinomiale grado 2: {:.5}\".format(R_CRA[1]))\n",
    "print(\"Regressione Polinomiale grado \" + str(R_CRA_GD) + \": {:.5}\".format(R_CRA[2]))\n",
    "print(\"              Regressione Ridge: {:.5}\".format(R_CRA[3]))"
   ]
  },
  {
   "cell_type": "markdown",
   "metadata": {},
   "source": [
    "Parto osservando che tutti e 4 i modelli risultano avere un'ottima accuratezza.\\\n",
    "In entrambi i carichi il modello più preciso risulta quello con regressione polinomiale di grado 3.\n",
    "\n",
    "Se dovessi scegliere il modello migliore farei prima una considerazione; se la complessità dei dati dovesse rimanere quella che è allora converrebbe utilizzare il modello con regressione polinomiale di grado 2 per entrambi (non il grado 3  in quanto la differenza è veramente minima e per un discorso di complessità computazionale sceglierei quello di grado 2).\n",
    "Mentre se la complessità dei dati in un futuro si dovesse incrementare allora converrebbe utilizzare il modello con regressione ridge in quanto la sua accuratezza rimarrebbe comunque ottima."
   ]
  }
 ],
 "metadata": {
  "kernelspec": {
   "display_name": "Python 3",
   "language": "python",
   "name": "python3"
  },
  "language_info": {
   "codemirror_mode": {
    "name": "ipython",
    "version": 3
   },
   "file_extension": ".py",
   "mimetype": "text/x-python",
   "name": "python",
   "nbconvert_exporter": "python",
   "pygments_lexer": "ipython3",
   "version": "3.8.5"
  }
 },
 "nbformat": 4,
 "nbformat_minor": 4
}
